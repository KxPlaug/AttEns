{
 "cells": [
  {
   "cell_type": "code",
   "execution_count": 34,
   "metadata": {},
   "outputs": [],
   "source": [
    "import numpy as np"
   ]
  },
  {
   "cell_type": "code",
   "execution_count": 35,
   "metadata": {},
   "outputs": [],
   "source": [
    "model = \"maxvit_t\""
   ]
  },
  {
   "cell_type": "code",
   "execution_count": null,
   "metadata": {},
   "outputs": [],
   "source": [
    "def auc(arr):\n",
    "    \"\"\"Returns normalized Area Under Curve of the array.\"\"\"\n",
    "    return (arr.sum() - arr[0] / 2 - arr[-1] / 2) / (arr.shape[0] - 1)"
   ]
  },
  {
   "cell_type": "code",
   "execution_count": 36,
   "metadata": {},
   "outputs": [],
   "source": [
    "attr_methods = [\n",
    "    'big','mfaba_smooth','ig','agi','sg','fast_ig', \"ampe\",\"isa\"\n",
    "]\n",
    "all_scores = []\n",
    "all_attributions = []\n",
    "for attr_method in attr_methods:\n",
    "    score = np.load(f\"scores_isa_before/{model}_{attr_method}_singlesoftmax_scores.npz\")\n",
    "    all_attributions.append(np.load(f\"attributions_isa/{model}_{attr_method}_attributions_singlesoftmax.npy\"))\n",
    "    ins_score = score['ins']\n",
    "    del_score = score['del']\n",
    "    ins_score_mean = np.mean(ins_score, axis=1)\n",
    "    del_score_mean = np.mean(del_score, axis=1)\n",
    "    score = ins_score_mean - del_score_mean\n",
    "    all_scores.append(score)\n",
    "\n",
    "all_scores = np.array(all_scores)\n",
    "all_attributions = np.array(all_attributions)"
   ]
  },
  {
   "cell_type": "code",
   "execution_count": 37,
   "metadata": {},
   "outputs": [
    {
     "data": {
      "text/plain": [
       "(8, 1000)"
      ]
     },
     "execution_count": 37,
     "metadata": {},
     "output_type": "execute_result"
    }
   ],
   "source": [
    "all_scores.shape"
   ]
  },
  {
   "cell_type": "code",
   "execution_count": 40,
   "metadata": {},
   "outputs": [
    {
     "data": {
      "text/plain": [
       "(1000, 3, 224, 224)"
      ]
     },
     "execution_count": 40,
     "metadata": {},
     "output_type": "execute_result"
    }
   ],
   "source": [
    "final_attribution = list()\n",
    "for i in range(1000):\n",
    "    final_attribution.append(all_attributions[all_scores.argmax(axis=0)[i], i])\n",
    "final_attribution = np.array(final_attribution)\n",
    "final_attribution.shape"
   ]
  },
  {
   "cell_type": "code",
   "execution_count": 41,
   "metadata": {},
   "outputs": [],
   "source": [
    "np.save(f\"final_attribution_isa/{model}_final_attribution_singlesoftmax.npy\", final_attribution)"
   ]
  },
  {
   "cell_type": "code",
   "execution_count": null,
   "metadata": {},
   "outputs": [],
   "source": []
  },
  {
   "cell_type": "code",
   "execution_count": 9,
   "metadata": {},
   "outputs": [],
   "source": []
  },
  {
   "cell_type": "code",
   "execution_count": 9,
   "metadata": {},
   "outputs": [
    {
     "data": {
      "text/plain": [
       "(0.7458981903616365, 0.03321765593018528)"
      ]
     },
     "execution_count": 9,
     "metadata": {},
     "output_type": "execute_result"
    }
   ],
   "source": [
    "scores_inceptionv3_final = np.load(\"scores_isa_before/inception_v3_final_singlesoftmax_scores.npz\")\n",
    "auc(scores_inceptionv3_final['ins'].mean(0)), auc(scores_inceptionv3_final['del'].mean(0))"
   ]
  },
  {
   "cell_type": "code",
   "execution_count": null,
   "metadata": {},
   "outputs": [],
   "source": []
  }
 ],
 "metadata": {
  "kernelspec": {
   "display_name": "Python 3.12.4 ('base')",
   "language": "python",
   "name": "python3"
  },
  "language_info": {
   "codemirror_mode": {
    "name": "ipython",
    "version": 3
   },
   "file_extension": ".py",
   "mimetype": "text/x-python",
   "name": "python",
   "nbconvert_exporter": "python",
   "pygments_lexer": "ipython3",
   "version": "3.12.4"
  },
  "vscode": {
   "interpreter": {
    "hash": "c20a842f17d4042cf82a5d6eb41d48a945e9b0e2e935016c359597ed8495624a"
   }
  }
 },
 "nbformat": 4,
 "nbformat_minor": 2
}
